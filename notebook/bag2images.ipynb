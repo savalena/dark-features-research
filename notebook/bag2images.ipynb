{
 "cells": [
  {
   "cell_type": "code",
   "execution_count": 4,
   "id": "8e7c8364-dcb4-4ecf-bb09-af78ce22a632",
   "metadata": {},
   "outputs": [],
   "source": [
    "import cv2\n",
    "import matplotlib.pyplot as plt\n",
    "import numpy as np\n",
    "from tqdm import tqdm\n",
    "\n",
    "import rosbag\n",
    "\n",
    "import os, sys\n",
    "\n",
    "PYTHON_PATHS = ['/home/alena/repos/ros-bag-processing', '../']\n",
    "for path in PYTHON_PATHS:\n",
    "    if path not in sys.path:\n",
    "        sys.path.append(path)\n",
    "        \n",
    "from ros_bag_processing.enlighting.hist_norm import HistNormModel\n",
    "from ros_bag_processing.enlighting.gamma import GammaModel\n",
    "from ros_bag_processing.enlighting.enlighten_gan import EnlightenGanModel\n",
    "import utils"
   ]
  },
  {
   "cell_type": "code",
   "execution_count": 5,
   "id": "3fa8a116-83d4-47eb-bc25-d6c31c0b0af9",
   "metadata": {},
   "outputs": [],
   "source": [
    "def read_bag(file_path, type='r'):\n",
    "    return rosbag.Bag(file_path, type)\n",
    "\n",
    "def check_dir(directory):\n",
    "    print(\"Output will be saved in directory: {}\".format(directory))\n",
    "    if not os.path.exists(directory):\n",
    "        print('New directory created')\n",
    "        os.mkdir(directory)\n",
    "            \n",
    "def bag2images(bag_path, out_dir='output', img_topic='/camera/image_cropped'):\n",
    "    bag = read_bag(bag_path)\n",
    "\n",
    "    check_dir(out_dir)\n",
    "\n",
    "    cnt = 0\n",
    "    for topic, msg, t in tqdm(bag.read_messages(topics=[img_topic])):\n",
    "        img = np.frombuffer(msg.data, dtype=np.uint8).reshape(msg.height, msg.width, -1)\n",
    "        out_im_path = os.path.join(out_dir, '%06i.png' % cnt)\n",
    "        img = cv2.cvtColor(img, cv2.COLOR_BGR2RGB)\n",
    "        cv2.imwrite(out_im_path, img)\n",
    "        cnt += 1\n",
    "#         print('Wrote image: %i' % cnt)\n",
    "    bag.close()"
   ]
  },
  {
   "cell_type": "markdown",
   "id": "262e01f6-b0df-49d8-a80c-5283b40e913e",
   "metadata": {},
   "source": [
    "### Original"
   ]
  },
  {
   "cell_type": "code",
   "execution_count": 28,
   "id": "e5098c42-1cd4-495f-86e2-896fd4ba8553",
   "metadata": {},
   "outputs": [],
   "source": [
    "bag_path_base = '/home/alena/Documents/dark-slam/datasets/original/raw_bags/'\n",
    "bag_files = [\"2021-11-24-23-08-24.bag\", \"2021-11-24-23-17-27/bag\"]#np.sort(os.listdir(bag_path_base))\n",
    "\n",
    "output_path_base = '/home/alena/Documents/dark-slam/datasets/original/images/raw'\n",
    "\n",
    "topic = '/camera/image_cropped'"
   ]
  },
  {
   "cell_type": "code",
   "execution_count": 29,
   "id": "0e2502fd-01fb-4888-a7a4-f254c86df57e",
   "metadata": {},
   "outputs": [
    {
     "name": "stdout",
     "output_type": "stream",
     "text": [
      "Output will be saved in directory: /home/alena/Documents/dark-slam/datasets/original/images/raw/2021-11-24-23-08-24\n"
     ]
    },
    {
     "name": "stderr",
     "output_type": "stream",
     "text": [
      "1498it [00:18, 81.61it/s]\n"
     ]
    },
    {
     "ename": "FileNotFoundError",
     "evalue": "[Errno 2] No such file or directory: '/home/alena/Documents/dark-slam/datasets/original/raw_bags/2021-11-24-23-17-27/bag'",
     "output_type": "error",
     "traceback": [
      "\u001b[0;31m---------------------------------------------------------------------------\u001b[0m",
      "\u001b[0;31mFileNotFoundError\u001b[0m                         Traceback (most recent call last)",
      "\u001b[0;32m<ipython-input-29-10ab1b8fc04d>\u001b[0m in \u001b[0;36m<module>\u001b[0;34m\u001b[0m\n\u001b[1;32m      2\u001b[0m     \u001b[0mbag_path\u001b[0m \u001b[0;34m=\u001b[0m \u001b[0mos\u001b[0m\u001b[0;34m.\u001b[0m\u001b[0mpath\u001b[0m\u001b[0;34m.\u001b[0m\u001b[0mjoin\u001b[0m\u001b[0;34m(\u001b[0m\u001b[0mbag_path_base\u001b[0m\u001b[0;34m,\u001b[0m \u001b[0mbag_file\u001b[0m\u001b[0;34m)\u001b[0m\u001b[0;34m\u001b[0m\u001b[0;34m\u001b[0m\u001b[0m\n\u001b[1;32m      3\u001b[0m     \u001b[0moutput_path\u001b[0m \u001b[0;34m=\u001b[0m \u001b[0mos\u001b[0m\u001b[0;34m.\u001b[0m\u001b[0mpath\u001b[0m\u001b[0;34m.\u001b[0m\u001b[0mjoin\u001b[0m\u001b[0;34m(\u001b[0m\u001b[0moutput_path_base\u001b[0m\u001b[0;34m,\u001b[0m \u001b[0mbag_file\u001b[0m\u001b[0;34m[\u001b[0m\u001b[0;34m:\u001b[0m\u001b[0;34m-\u001b[0m\u001b[0;36m4\u001b[0m\u001b[0;34m]\u001b[0m\u001b[0;34m)\u001b[0m\u001b[0;34m\u001b[0m\u001b[0;34m\u001b[0m\u001b[0m\n\u001b[0;32m----> 4\u001b[0;31m     \u001b[0mbag2images\u001b[0m\u001b[0;34m(\u001b[0m\u001b[0mbag_path\u001b[0m\u001b[0;34m,\u001b[0m \u001b[0mout_dir\u001b[0m\u001b[0;34m=\u001b[0m\u001b[0moutput_path\u001b[0m\u001b[0;34m,\u001b[0m \u001b[0mimg_topic\u001b[0m\u001b[0;34m=\u001b[0m\u001b[0mtopic\u001b[0m\u001b[0;34m)\u001b[0m\u001b[0;34m\u001b[0m\u001b[0;34m\u001b[0m\u001b[0m\n\u001b[0m",
      "\u001b[0;32m<ipython-input-5-64a8181e7f5e>\u001b[0m in \u001b[0;36mbag2images\u001b[0;34m(bag_path, out_dir, img_topic)\u001b[0m\n\u001b[1;32m      9\u001b[0m \u001b[0;34m\u001b[0m\u001b[0m\n\u001b[1;32m     10\u001b[0m \u001b[0;32mdef\u001b[0m \u001b[0mbag2images\u001b[0m\u001b[0;34m(\u001b[0m\u001b[0mbag_path\u001b[0m\u001b[0;34m,\u001b[0m \u001b[0mout_dir\u001b[0m\u001b[0;34m=\u001b[0m\u001b[0;34m'output'\u001b[0m\u001b[0;34m,\u001b[0m \u001b[0mimg_topic\u001b[0m\u001b[0;34m=\u001b[0m\u001b[0;34m'/camera/image_cropped'\u001b[0m\u001b[0;34m)\u001b[0m\u001b[0;34m:\u001b[0m\u001b[0;34m\u001b[0m\u001b[0;34m\u001b[0m\u001b[0m\n\u001b[0;32m---> 11\u001b[0;31m     \u001b[0mbag\u001b[0m \u001b[0;34m=\u001b[0m \u001b[0mread_bag\u001b[0m\u001b[0;34m(\u001b[0m\u001b[0mbag_path\u001b[0m\u001b[0;34m)\u001b[0m\u001b[0;34m\u001b[0m\u001b[0;34m\u001b[0m\u001b[0m\n\u001b[0m\u001b[1;32m     12\u001b[0m \u001b[0;34m\u001b[0m\u001b[0m\n\u001b[1;32m     13\u001b[0m     \u001b[0mcheck_dir\u001b[0m\u001b[0;34m(\u001b[0m\u001b[0mout_dir\u001b[0m\u001b[0;34m)\u001b[0m\u001b[0;34m\u001b[0m\u001b[0;34m\u001b[0m\u001b[0m\n",
      "\u001b[0;32m<ipython-input-5-64a8181e7f5e>\u001b[0m in \u001b[0;36mread_bag\u001b[0;34m(file_path, type)\u001b[0m\n\u001b[1;32m      1\u001b[0m \u001b[0;32mdef\u001b[0m \u001b[0mread_bag\u001b[0m\u001b[0;34m(\u001b[0m\u001b[0mfile_path\u001b[0m\u001b[0;34m,\u001b[0m \u001b[0mtype\u001b[0m\u001b[0;34m=\u001b[0m\u001b[0;34m'r'\u001b[0m\u001b[0;34m)\u001b[0m\u001b[0;34m:\u001b[0m\u001b[0;34m\u001b[0m\u001b[0;34m\u001b[0m\u001b[0m\n\u001b[0;32m----> 2\u001b[0;31m     \u001b[0;32mreturn\u001b[0m \u001b[0mrosbag\u001b[0m\u001b[0;34m.\u001b[0m\u001b[0mBag\u001b[0m\u001b[0;34m(\u001b[0m\u001b[0mfile_path\u001b[0m\u001b[0;34m,\u001b[0m \u001b[0mtype\u001b[0m\u001b[0;34m)\u001b[0m\u001b[0;34m\u001b[0m\u001b[0;34m\u001b[0m\u001b[0m\n\u001b[0m\u001b[1;32m      3\u001b[0m \u001b[0;34m\u001b[0m\u001b[0m\n\u001b[1;32m      4\u001b[0m \u001b[0;32mdef\u001b[0m \u001b[0mcheck_dir\u001b[0m\u001b[0;34m(\u001b[0m\u001b[0mdirectory\u001b[0m\u001b[0;34m)\u001b[0m\u001b[0;34m:\u001b[0m\u001b[0;34m\u001b[0m\u001b[0;34m\u001b[0m\u001b[0m\n\u001b[1;32m      5\u001b[0m     \u001b[0mprint\u001b[0m\u001b[0;34m(\u001b[0m\u001b[0;34m\"Output will be saved in directory: {}\"\u001b[0m\u001b[0;34m.\u001b[0m\u001b[0mformat\u001b[0m\u001b[0;34m(\u001b[0m\u001b[0mdirectory\u001b[0m\u001b[0;34m)\u001b[0m\u001b[0;34m)\u001b[0m\u001b[0;34m\u001b[0m\u001b[0;34m\u001b[0m\u001b[0m\n",
      "\u001b[0;32m/opt/ros/noetic/lib/python3/dist-packages/rosbag/bag.py\u001b[0m in \u001b[0;36m__init__\u001b[0;34m(self, f, mode, compression, chunk_threshold, allow_unindexed, options, skip_index)\u001b[0m\n\u001b[1;32m    465\u001b[0m         \u001b[0mself\u001b[0m\u001b[0;34m.\u001b[0m\u001b[0m_encryptor\u001b[0m \u001b[0;34m=\u001b[0m \u001b[0m_ROSBagNoEncryptor\u001b[0m\u001b[0;34m(\u001b[0m\u001b[0;34m)\u001b[0m\u001b[0;34m\u001b[0m\u001b[0;34m\u001b[0m\u001b[0m\n\u001b[1;32m    466\u001b[0m \u001b[0;34m\u001b[0m\u001b[0m\n\u001b[0;32m--> 467\u001b[0;31m         \u001b[0mself\u001b[0m\u001b[0;34m.\u001b[0m\u001b[0m_open\u001b[0m\u001b[0;34m(\u001b[0m\u001b[0mf\u001b[0m\u001b[0;34m,\u001b[0m \u001b[0mmode\u001b[0m\u001b[0;34m,\u001b[0m \u001b[0mallow_unindexed\u001b[0m\u001b[0;34m)\u001b[0m\u001b[0;34m\u001b[0m\u001b[0;34m\u001b[0m\u001b[0m\n\u001b[0m\u001b[1;32m    468\u001b[0m \u001b[0;34m\u001b[0m\u001b[0m\n\u001b[1;32m    469\u001b[0m         \u001b[0mself\u001b[0m\u001b[0;34m.\u001b[0m\u001b[0m_output_file\u001b[0m \u001b[0;34m=\u001b[0m \u001b[0mself\u001b[0m\u001b[0;34m.\u001b[0m\u001b[0m_file\u001b[0m\u001b[0;34m\u001b[0m\u001b[0;34m\u001b[0m\u001b[0m\n",
      "\u001b[0;32m/opt/ros/noetic/lib/python3/dist-packages/rosbag/bag.py\u001b[0m in \u001b[0;36m_open\u001b[0;34m(self, f, mode, allow_unindexed)\u001b[0m\n\u001b[1;32m   1426\u001b[0m \u001b[0;34m\u001b[0m\u001b[0m\n\u001b[1;32m   1427\u001b[0m         \u001b[0;32mtry\u001b[0m\u001b[0;34m:\u001b[0m\u001b[0;34m\u001b[0m\u001b[0;34m\u001b[0m\u001b[0m\n\u001b[0;32m-> 1428\u001b[0;31m             \u001b[0;32mif\u001b[0m   \u001b[0mmode\u001b[0m \u001b[0;34m==\u001b[0m \u001b[0;34m'r'\u001b[0m\u001b[0;34m:\u001b[0m \u001b[0mself\u001b[0m\u001b[0;34m.\u001b[0m\u001b[0m_open_read\u001b[0m\u001b[0;34m(\u001b[0m\u001b[0mf\u001b[0m\u001b[0;34m,\u001b[0m \u001b[0mallow_unindexed\u001b[0m\u001b[0;34m)\u001b[0m\u001b[0;34m\u001b[0m\u001b[0;34m\u001b[0m\u001b[0m\n\u001b[0m\u001b[1;32m   1429\u001b[0m             \u001b[0;32melif\u001b[0m \u001b[0mmode\u001b[0m \u001b[0;34m==\u001b[0m \u001b[0;34m'w'\u001b[0m\u001b[0;34m:\u001b[0m \u001b[0mself\u001b[0m\u001b[0;34m.\u001b[0m\u001b[0m_open_write\u001b[0m\u001b[0;34m(\u001b[0m\u001b[0mf\u001b[0m\u001b[0;34m)\u001b[0m\u001b[0;34m\u001b[0m\u001b[0;34m\u001b[0m\u001b[0m\n\u001b[1;32m   1430\u001b[0m             \u001b[0;32melif\u001b[0m \u001b[0mmode\u001b[0m \u001b[0;34m==\u001b[0m \u001b[0;34m'a'\u001b[0m\u001b[0;34m:\u001b[0m \u001b[0mself\u001b[0m\u001b[0;34m.\u001b[0m\u001b[0m_open_append\u001b[0m\u001b[0;34m(\u001b[0m\u001b[0mf\u001b[0m\u001b[0;34m,\u001b[0m \u001b[0mallow_unindexed\u001b[0m\u001b[0;34m)\u001b[0m\u001b[0;34m\u001b[0m\u001b[0;34m\u001b[0m\u001b[0m\n",
      "\u001b[0;32m/opt/ros/noetic/lib/python3/dist-packages/rosbag/bag.py\u001b[0m in \u001b[0;36m_open_read\u001b[0;34m(self, f, allow_unindexed)\u001b[0m\n\u001b[1;32m   1448\u001b[0m             \u001b[0mself\u001b[0m\u001b[0;34m.\u001b[0m\u001b[0m_filename\u001b[0m \u001b[0;34m=\u001b[0m \u001b[0;32mNone\u001b[0m\u001b[0;34m\u001b[0m\u001b[0;34m\u001b[0m\u001b[0m\n\u001b[1;32m   1449\u001b[0m         \u001b[0;32melse\u001b[0m\u001b[0;34m:\u001b[0m\u001b[0;34m\u001b[0m\u001b[0;34m\u001b[0m\u001b[0m\n\u001b[0;32m-> 1450\u001b[0;31m             \u001b[0mself\u001b[0m\u001b[0;34m.\u001b[0m\u001b[0m_file\u001b[0m     \u001b[0;34m=\u001b[0m \u001b[0mopen\u001b[0m\u001b[0;34m(\u001b[0m\u001b[0mf\u001b[0m\u001b[0;34m,\u001b[0m \u001b[0;34m'rb'\u001b[0m\u001b[0;34m)\u001b[0m\u001b[0;34m\u001b[0m\u001b[0;34m\u001b[0m\u001b[0m\n\u001b[0m\u001b[1;32m   1451\u001b[0m             \u001b[0mself\u001b[0m\u001b[0;34m.\u001b[0m\u001b[0m_filename\u001b[0m \u001b[0;34m=\u001b[0m \u001b[0mf\u001b[0m\u001b[0;34m\u001b[0m\u001b[0;34m\u001b[0m\u001b[0m\n\u001b[1;32m   1452\u001b[0m \u001b[0;34m\u001b[0m\u001b[0m\n",
      "\u001b[0;31mFileNotFoundError\u001b[0m: [Errno 2] No such file or directory: '/home/alena/Documents/dark-slam/datasets/original/raw_bags/2021-11-24-23-17-27/bag'"
     ]
    }
   ],
   "source": [
    "for bag_file in bag_files:\n",
    "    bag_path = os.path.join(bag_path_base, bag_file)\n",
    "    output_path = os.path.join(output_path_base, bag_file[:-4])\n",
    "    bag2images(bag_path, out_dir=output_path, img_topic=topic)"
   ]
  },
  {
   "cell_type": "markdown",
   "id": "f3ebf17a-3201-4418-ae32-fb7afc6cb043",
   "metadata": {},
   "source": [
    "### Processed"
   ]
  },
  {
   "cell_type": "code",
   "execution_count": null,
   "id": "500edc5f-b7d7-4fb3-b77a-d0a04e47a89d",
   "metadata": {},
   "outputs": [],
   "source": [
    "model_gan = EnlightenGanModel()\n",
    "model_gamma2 = GammaModel(gamma=2)\n",
    "model_gamma4 = GammaModel(gamma=4)\n",
    "model_hist = HistNormModel()"
   ]
  },
  {
   "cell_type": "code",
   "execution_count": null,
   "id": "47a160f3-b9aa-4369-89c2-f970603d4473",
   "metadata": {
    "tags": []
   },
   "outputs": [],
   "source": [
    "images_path_base = \"/home/alena/Documents/dark-slam/datasets/original/images/raw/\"\n",
    "image_folders = np.sort(os.listdir(images_path_base))\n",
    "\n",
    "output_path_base = '/home/alena/Documents/dark-slam/datasets/original/images/'\n",
    "processing = [\"gan\", \"gamma2\", \"gamma4\", \"hist\"]\n",
    "\n",
    "\n",
    "for image_folder in tqdm(image_folders):\n",
    "    image_filenames_path = os.path.join(images_path_base, image_folder)\n",
    "    image_filenames = np.sort(os.listdir(images_filenames_path))\n",
    "    for i in tqdm(range(image_filenames.shape[0])):\n",
    "        images = []\n",
    "        path = os.path.join(image_filenames_path, image_filenames[i])\n",
    "        img = cv2.imread(path)\n",
    "        \n",
    "        images.append(model_gan.predict(img))\n",
    "        images.append(model_gamma2.predict(img))\n",
    "        images.append(model_gamma4.predict(img))\n",
    "        images.append(model_hist.predict(img))\n",
    "\n",
    "        for k in range(4):\n",
    "            path2save = os.path.join(output_path_base, processing[k],  image_folder)\n",
    "            if not os.path.exists(path2save):\n",
    "                os.mkdir(path2save)\n",
    "            cv2.imwrite(path2save + \"/%06i.png\"%i, images[k])"
   ]
  },
  {
   "cell_type": "code",
   "execution_count": null,
   "id": "18e9c816-2fe4-4d85-99d6-2655ac131d89",
   "metadata": {},
   "outputs": [],
   "source": []
  }
 ],
 "metadata": {
  "kernelspec": {
   "display_name": "Python 3",
   "language": "python",
   "name": "python3"
  },
  "language_info": {
   "codemirror_mode": {
    "name": "ipython",
    "version": 3
   },
   "file_extension": ".py",
   "mimetype": "text/x-python",
   "name": "python",
   "nbconvert_exporter": "python",
   "pygments_lexer": "ipython3",
   "version": "3.6.13"
  }
 },
 "nbformat": 4,
 "nbformat_minor": 5
}
